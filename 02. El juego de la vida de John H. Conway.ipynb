{
 "cells": [
  {
   "cell_type": "markdown",
   "id": "491d4627",
   "metadata": {
    "slideshow": {
     "slide_type": "slide"
    }
   },
   "source": [
    "# El juego de la vida de John H. Conway"
   ]
  },
  {
   "cell_type": "markdown",
   "id": "663db224",
   "metadata": {
    "slideshow": {
     "slide_type": "slide"
    }
   },
   "source": [
    "Es un autómata celular desarrollado por el matemático británico John Horton Conway\n",
    " \n",
    "- En inglés, _The Game of Life_ o, simplemente, Life\n",
    "\n",
    "Es un \"juego\" de cero jugadores\n",
    "\n",
    "- Vamos, que de juego tiene poco; mejor dicho, es una simulación\n",
    "- Se parte de un estado inicial y se deja que el sistema evolucione\n",
    "\n",
    "Su funcionamiento se basa en cuatro reglas muy simples:\n",
    "\n",
    "1. Cualquier célula **viva** con menos de dos vecinas vivas **muere** (hambruna)\n",
    "2. Cualquier célula **viva** con dos o tres vecinos vivos **vive** en la siguiente generación\n",
    "3. Cualquier célula **viva** con más de tres vecinos vivos **muere**, (exceso de población)\n",
    "4. Cualquier célula **muerta** con exactamente tres vecinas vivas se convierte en una célula **viva**, (reproducción)"
   ]
  },
  {
   "cell_type": "markdown",
   "id": "82fe7969",
   "metadata": {
    "slideshow": {
     "slide_type": "slide"
    }
   },
   "source": [
    "Primero, vamos a importar las librerías que usaremos a lo largo de la presentación"
   ]
  },
  {
   "cell_type": "code",
   "execution_count": 1,
   "id": "5280e199",
   "metadata": {},
   "outputs": [],
   "source": [
    "import pprint as pp\n",
    "from random import randrange\n",
    "from time import sleep\n",
    "\n",
    "from IPython.display import clear_output\n",
    "\n",
    "from life import Universe, board, shift, pattern"
   ]
  },
  {
   "cell_type": "markdown",
   "id": "c80e39ba",
   "metadata": {
    "slideshow": {
     "slide_type": "slide"
    }
   },
   "source": [
    "## Implementación\n",
    "\n",
    "Vamos a realizar una pequeña implementación del autómata\n",
    "\n",
    "Así tendremos algo con lo que ilustrar ejemplos y patrones"
   ]
  },
  {
   "cell_type": "markdown",
   "id": "98be2f1e",
   "metadata": {
    "slideshow": {
     "slide_type": "slide"
    }
   },
   "source": [
    "### Representando el escenario de juego\n",
    "\n",
    "Vamos a crear una clase `Universe`, que representará el escenario donde evolucionan las células\n",
    "\n",
    "```python\n",
    "class Universe:\n",
    "```\n",
    "\n",
    "Las células se representarán como un conjunto de posiciones $(x, y)$, \n",
    "  - Por ejemplo, `{(1, 1), (1, 2), (1, 3), (2, 1)}`\n",
    "  - De esta manera nos vale tanto para cualquier dimensión de mapa\n",
    "\n",
    "El universo evolucionará con el tiempo según las reglas definidas\n",
    "\n",
    "- Las reglas se aplican simultáneamente en todas las células\n",
    "- El resultado tras aplicarlas será una nueva **generación** de dicho universo\n",
    "\n",
    "```python\n",
    "class Universe:\n",
    "    def __init__(self, cells=None):\n",
    "        self.cells = set(cells) if cells else {}\n",
    "        self.generation = 0\n",
    "```"
   ]
  },
  {
   "cell_type": "markdown",
   "id": "e4da2e90",
   "metadata": {
    "slideshow": {
     "slide_type": "slide"
    }
   },
   "source": [
    "Para avanzar una generación nos apoyaremos en dos métodos auxiliares:\n",
    "\n",
    "1. `neighbours`, que determinará las posiciones de los vecinos de una célula concreta\n",
    "\n",
    "```python\n",
    "    ...\n",
    "    def neighbours(self, cell):\n",
    "        for x, y in product(range(-1, 2), repeat=2):\n",
    "            if x != and y != 0:\n",
    "                yield cell[0] + x, cell[1] + y\n",
    "```\n",
    "\n",
    "2. `neighbours_activation`, que dterminará cuántas veces aparece cada uno de los vecinos activados\n",
    "\n",
    "```python\n",
    "    ...\n",
    "    def active_neighbours(self):\n",
    "        \"\"\"The neighbours alongside the times they're are activated.\"\"\"\n",
    "        return Counter(neighbour for cell in self.cells for neighbour in self.neighbours(cell=cell))\n",
    "```"
   ]
  },
  {
   "cell_type": "markdown",
   "id": "baadc31c",
   "metadata": {
    "slideshow": {
     "slide_type": "slide"
    }
   },
   "source": [
    "Veamos cómo funcionan"
   ]
  },
  {
   "cell_type": "code",
   "execution_count": 2,
   "id": "71105ef8",
   "metadata": {},
   "outputs": [
    {
     "name": "stdout",
     "output_type": "stream",
     "text": [
      "Cells in universe at generation 0: {(1, 0), (0, 0)}\n"
     ]
    }
   ],
   "source": [
    "universe = Universe({(0, 0), (1, 0)})\n",
    "print(f'Cells in universe at generation {universe.generation}: {universe.cells}')"
   ]
  },
  {
   "cell_type": "code",
   "execution_count": 3,
   "id": "ecbe8fa1",
   "metadata": {},
   "outputs": [
    {
     "name": "stdout",
     "output_type": "stream",
     "text": [
      "Neighbours for cell (0, 0): [(-1, -1), (-1, 0), (-1, 1), (0, -1), (0, 1), (1, -1), (1, 0), (1, 1)]\n"
     ]
    }
   ],
   "source": [
    "cell = (0, 0)\n",
    "print(f'Neighbours for cell {cell}: {list(universe.neighbours(cell=cell))}')"
   ]
  },
  {
   "cell_type": "code",
   "execution_count": 4,
   "id": "b66c06ab",
   "metadata": {},
   "outputs": [
    {
     "name": "stdout",
     "output_type": "stream",
     "text": [
      "Activations: Counter({(0, -1): 2,\n",
      "         (0, 1): 2,\n",
      "         (1, -1): 2,\n",
      "         (1, 1): 2,\n",
      "         (0, 0): 1,\n",
      "         (2, -1): 1,\n",
      "         (2, 0): 1,\n",
      "         (2, 1): 1,\n",
      "         (-1, -1): 1,\n",
      "         (-1, 0): 1,\n",
      "         (-1, 1): 1,\n",
      "         (1, 0): 1})\n"
     ]
    }
   ],
   "source": [
    "print(f'Activations: {pp.pformat(universe.active_neighbours())}')"
   ]
  },
  {
   "cell_type": "markdown",
   "id": "8b41475a",
   "metadata": {
    "slideshow": {
     "slide_type": "slide"
    }
   },
   "source": [
    "Ya tenemos todo lo necesario para hacer avanzar una generación nuestro universo. Lo implementaremos en el método `step`:\n",
    "\n",
    "- Usará el método `neighbours_count` para ver qué células se activarán y por cuántos vecinos vivos\n",
    "- Filtrará aquellas que, o bien tienen exactamente 3 vecinos, o bien 2 pero que ya estaban vivas antes\n",
    "- Por último, hará avanzar en 1 las generaciones\n",
    "\n",
    "```python\n",
    "    ...\n",
    "    def step(self):\n",
    "        self.cells = {\n",
    "            c for c, n in self.active_neighbours().items()\n",
    "            if n == 3 or (n == 2 and c in self.cells)\n",
    "        }\n",
    "        self.generation += 1\n",
    "```"
   ]
  },
  {
   "cell_type": "code",
   "execution_count": 5,
   "id": "db4862f7",
   "metadata": {},
   "outputs": [
    {
     "name": "stdout",
     "output_type": "stream",
     "text": [
      "Generation 0: [(-1, 0), (1, 0), (0, 1), (0, 0)]\n",
      "Generation 1: [(0, 1), (0, 0), (-1, 1), (1, 1), (-1, 0), (1, 0), (0, -1)]\n",
      "Generation 2: [(-1, -1), (-1, 1), (1, 1), (1, -1), (0, 2), (0, -1)]\n",
      "Generation 3: [(0, 1), (0, -1), (-1, 0), (0, 2), (1, 0), (0, -2)]\n",
      "Generation 4: [(0, 1), (-1, -1), (-1, 1), (1, 1), (1, -1), (-1, 0), (1, 0), (0, -1)]\n"
     ]
    }
   ],
   "source": [
    "universe = Universe({(-1, 0), (0, 1), (1, 0), (0, 0)})\n",
    "for _ in range(5):\n",
    "    print(f'Generation {universe.generation}: {list(universe.cells)}')\n",
    "    universe.step()"
   ]
  },
  {
   "cell_type": "markdown",
   "id": "4caa9990",
   "metadata": {},
   "source": [
    "¡Ya tenemos nuestro simulador funcionando! Eso sí, tenemos que hacer que sea más cómodo de visualizar"
   ]
  },
  {
   "cell_type": "markdown",
   "id": "e07a0f07",
   "metadata": {
    "slideshow": {
     "slide_type": "slide"
    }
   },
   "source": [
    "Antes de terminar vamos a añadir una propiedad, `size` que determinará cuántas células vivas quedan\n",
    "\n",
    "```python\n",
    "    ...\n",
    "    @property\n",
    "    def size(self):\n",
    "        return len(self.cells)\n",
    "```\n",
    "\n",
    "- Nos puede servir por ejemplo, para no hacer evolucionar más un universo que esté vacío\n",
    "\n",
    "La implementación completa (con comentarios) se encuentra en el módulo `life.py`"
   ]
  },
  {
   "cell_type": "markdown",
   "id": "6f81bb04",
   "metadata": {
    "slideshow": {
     "slide_type": "slide"
    }
   },
   "source": [
    "## Visualización\n",
    "\n",
    "Vamos a implementar la visualización en modo texto.\n",
    "\n",
    "- De esto se encargará la función `board`, que devolverá el tablero como cadena de texto\n",
    "- Admitirá como parámetros el universo a pinter y el tamaño del tablero\n",
    "- Opcionalmente, podremos usar diferentes estilos para las células vivas y muertas\n",
    "\n",
    "```python\n",
    "def board(universe, size, ok='⬛', ko='⬜'):\n",
    "    return '\\n'.join(\n",
    "        ''.join(ok if (x, y) in universe.cells else ko for x in range(width))\n",
    "        for y in range(height)\n",
    "    )\n",
    "```"
   ]
  },
  {
   "cell_type": "markdown",
   "id": "86bc892f",
   "metadata": {
    "slideshow": {
     "slide_type": "slide"
    }
   },
   "source": [
    "Ahora vamos a darle una vuelta de tuerca. Vamos a convertir el método `board` en un generador\n",
    "\n",
    "- Le añadiremos un parámetro opcional `generations` que dirá cuántas generaciones queremos producir\n",
    "- Y como es opcional, si no se especifica nada, ¡que no pare!\n",
    "\n",
    "```python\n",
    "def board(universe, size, gens=None, ok='⬛', ko='⬜'):\n",
    "    width, height = size\n",
    "    while generations is None or universe.generation < gens:\n",
    "        yield '\\n'.join(\n",
    "        ''.join(\n",
    "            ok if (x, y) in universe.cells else ko for x in range(width))\n",
    "            for y in range(height)\n",
    "        )\n",
    "        universe.step()\n",
    "```"
   ]
  },
  {
   "cell_type": "markdown",
   "id": "80d8425f",
   "metadata": {
    "slideshow": {
     "slide_type": "slide"
    }
   },
   "source": [
    "Veamos cómo funciona:"
   ]
  },
  {
   "cell_type": "code",
   "execution_count": 6,
   "id": "a86e1738",
   "metadata": {},
   "outputs": [
    {
     "name": "stdout",
     "output_type": "stream",
     "text": [
      "Starting universe (generation 0):\n",
      "⬜⬜⬜⬜⬜\n",
      "⬜⬛⬛⬛⬜\n",
      "⬜⬜⬜⬜⬜\n",
      "⬜⬜⬛⬜⬜\n",
      "⬜⬜⬜⬜⬜\n",
      "Universe in generation 1:\n",
      "⬜⬜⬛⬜⬜\n",
      "⬜⬜⬛⬜⬜\n",
      "⬜⬛⬜⬛⬜\n",
      "⬜⬜⬜⬜⬜\n",
      "⬜⬜⬜⬜⬜\n",
      "Universe in generation 2:\n",
      "⬜⬜⬜⬜⬜\n",
      "⬜⬛⬛⬛⬜\n",
      "⬜⬜⬛⬜⬜\n",
      "⬜⬜⬜⬜⬜\n",
      "⬜⬜⬜⬜⬜\n",
      "Universe in generation 3:\n",
      "⬜⬜⬛⬜⬜\n",
      "⬜⬛⬛⬛⬜\n",
      "⬜⬛⬛⬛⬜\n",
      "⬜⬜⬜⬜⬜\n",
      "⬜⬜⬜⬜⬜\n",
      "Universe in generation 4:\n",
      "⬜⬛⬛⬛⬜\n",
      "⬜⬜⬜⬜⬜\n",
      "⬜⬛⬜⬛⬜\n",
      "⬜⬜⬛⬜⬜\n",
      "⬜⬜⬜⬜⬜\n"
     ]
    }
   ],
   "source": [
    "universe = Universe({(1, 1), (2, 3), (2, 1), (3, 1), (6, 6)})\n",
    "board_generator = board(universe, size=(5, 5), gens=5)\n",
    "print(f'Starting universe (generation {universe.generation}):\\n{next(board_generator)}')\n",
    "for b in board_generator:\n",
    "    print(f'Universe in generation {universe.generation}:\\n{b}')"
   ]
  },
  {
   "cell_type": "markdown",
   "id": "1a13ed8c",
   "metadata": {
    "slideshow": {
     "slide_type": "slide"
    }
   },
   "source": [
    "Y ahora, como estamos usando jupyter, vamos a aprovechar sus capacidades para la animación\n",
    "\n",
    "Básicamente imprimiremos los tableros de cada generación en una determinada frecuencia y limpiaremos la salida entre dibujos"
   ]
  },
  {
   "cell_type": "code",
   "execution_count": 7,
   "id": "41da299a",
   "metadata": {
    "slideshow": {
     "slide_type": "-"
    }
   },
   "outputs": [
    {
     "name": "stdout",
     "output_type": "stream",
     "text": [
      "Generation: 249; size: 43\n",
      "⬜⬜⬜⬜⬜⬜⬜⬜⬜⬜\n",
      "⬜⬜⬜⬜⬜⬜⬜⬜⬜⬜\n",
      "⬜⬜⬜⬜⬜⬜⬜⬜⬜⬜\n",
      "⬜⬜⬜⬜⬜⬜⬜⬜⬜⬜\n",
      "⬜⬜⬜⬜⬜⬜⬜⬜⬜⬜\n",
      "⬜⬜⬜⬜⬛⬛⬛⬜⬜⬜\n",
      "⬜⬜⬜⬜⬜⬜⬜⬜⬜⬜\n",
      "⬜⬜⬜⬜⬜⬜⬜⬜⬜⬜\n",
      "⬜⬜⬜⬜⬜⬜⬜⬜⬜⬜\n",
      "⬜⬜⬜⬜⬜⬜⬜⬜⬜⬜\n"
     ]
    }
   ],
   "source": [
    "width, height = 10, 10\n",
    "freq = 15\n",
    "generations = 250\n",
    "\n",
    "universe = Universe({(randrange(width), randrange(height)) for _ in range(width*height)})\n",
    "\n",
    "for b in board(universe, size=(width, height), gens=generations):\n",
    "    print(f'Generation: {universe.generation}; size: {universe.size}\\n{b}')\n",
    "    clear_output(wait=True)\n",
    "    sleep(1 / freq)"
   ]
  },
  {
   "cell_type": "markdown",
   "id": "d8a8cc4a",
   "metadata": {},
   "source": [
    "Encapsularemos esta funcionalidad en una función, para no repetirnos demasiado:"
   ]
  },
  {
   "cell_type": "code",
   "execution_count": 8,
   "id": "bff38893",
   "metadata": {},
   "outputs": [],
   "source": [
    "def run(universe, size, gens, freq):\n",
    "    for b in board(universe, size=size, gens=gens):\n",
    "        print(f'Generation: {universe.generation}; size: {universe.size}\\n{b}')\n",
    "        clear_output(wait=True)\n",
    "        sleep(1 / freq)"
   ]
  },
  {
   "cell_type": "markdown",
   "id": "aa77e620",
   "metadata": {
    "slideshow": {
     "slide_type": "slide"
    }
   },
   "source": [
    "## Patrones\n",
    "\n",
    "Ahora vamos a conocer algunos de los patrones más comunes que existen\n",
    "\n",
    "- Patrones: Configuraciones con ciertas propiedades\n",
    "\n",
    "Eso sí, como sería una locura escribir en base a cordenadas $(x, y)$ todas las figuras, nos apoyaremos en un par de funciones:\n",
    "\n",
    "- `pattern`, que devolverá el conjunto de células a partir de un patrón de texto\n",
    "\n",
    "```python\n",
    "def pattern(shape, live='#'):\n",
    "    return {\n",
    "        (x, y) \n",
    "        for (y, row) in enumerate(shape.strip().splitlines())\n",
    "        for (x, c) in enumerate(row)\n",
    "        if c == live\n",
    "    }\n",
    "```\n",
    "\n",
    "- `shift`, que desplazará el patrón hacia una posición del tablero (el $(0, 0)$ es la posición superior izquierda)\n",
    "\n",
    "```python\n",
    "def shift(cells, dx, dy):\n",
    "    return {(x + dx, y + dy) for (x, y) in cells}\n",
    "```\n",
    "\n",
    "Esta implementación se basa en la propuesta por [Peter Norvig](https://github.com/norvig/pytudes/blob/main/ipynb/Life.ipynb) para su implementación del Juego de la Vida"
   ]
  },
  {
   "cell_type": "markdown",
   "id": "9365408c",
   "metadata": {
    "slideshow": {
     "slide_type": "slide"
    }
   },
   "source": [
    "Veamos su funcionamiento con algunos patrones:\n",
    "\n",
    "- `blinker`, ejemplo de _oscilador_ (_oscillator_) de periodo dos\n",
    "- `toad`, otro ejemplo de _oscilador_ de periodo dos\n",
    "- `beehive`, ejemplo de _naturaleza muerta_ (_still_life_)"
   ]
  },
  {
   "cell_type": "code",
   "execution_count": 9,
   "id": "3ffdf9e9",
   "metadata": {},
   "outputs": [
    {
     "name": "stdout",
     "output_type": "stream",
     "text": [
      "Generation: 19; size: 15\n",
      "⬜⬜⬜⬜⬜⬜⬜⬜⬜⬜⬜⬜⬜⬜⬜⬜⬜⬜⬜⬜⬜⬜⬜⬜⬜⬜\n",
      "⬜⬜⬛⬜⬜⬜⬜⬜⬜⬜⬜⬜⬜⬛⬜⬜⬜⬜⬜⬜⬜⬜⬛⬛⬜⬜\n",
      "⬜⬜⬛⬜⬜⬜⬜⬜⬜⬜⬜⬛⬜⬜⬛⬜⬜⬜⬜⬜⬜⬛⬜⬜⬛⬜\n",
      "⬜⬜⬛⬜⬜⬜⬜⬜⬜⬜⬜⬛⬜⬜⬛⬜⬜⬜⬜⬜⬜⬜⬛⬛⬜⬜\n",
      "⬜⬜⬜⬜⬜⬜⬜⬜⬜⬜⬜⬜⬛⬜⬜⬜⬜⬜⬜⬜⬜⬜⬜⬜⬜⬜\n",
      "⬜⬜⬜⬜⬜⬜⬜⬜⬜⬜⬜⬜⬜⬜⬜⬜⬜⬜⬜⬜⬜⬜⬜⬜⬜⬜\n"
     ]
    }
   ],
   "source": [
    "blinker = pattern(\"\"\"###\"\"\")\n",
    "toad    = pattern(\"\"\"\n",
    ".###\n",
    "###.\n",
    "\"\"\")\n",
    "beehive = pattern(\"\"\"\n",
    ".##.\n",
    "#..#\n",
    ".##.\n",
    "\"\"\")\n",
    "\n",
    "cells = shift(blinker, 1, 2) | shift(toad, 11, 2) | shift(beehive, 21, 1)\n",
    "universe=Universe(cells)\n",
    "\n",
    "run(universe, size=(26, 6), gens=20, freq=5)"
   ]
  },
  {
   "cell_type": "markdown",
   "id": "0e50be1d",
   "metadata": {
    "id": "MfLUF40hqT9C",
    "outputId": "7c5fda4d-3d48-445b-a909-58f94c152b5e",
    "slideshow": {
     "slide_type": "slide"
    }
   },
   "source": [
    "Como os podréis imaginar, existen miles de patrones, clasificados en decenas de categorías diferentes- Pero nosotros pararemos aquí\n",
    "\n",
    "- Si os habéis quedado con ganas, la [Life Wiki](https://www.conwaylife.com/wiki/Main_Page) es un repositorio de información gigantesco, con información tanto del Juego de la vida como de sus variantes\n",
    "\n",
    "Ahora, vamos a jugar con algoritmos genéticos en este problema"
   ]
  }
 ],
 "metadata": {
  "kernelspec": {
   "display_name": "Python 3 (ipykernel)",
   "language": "python",
   "name": "python3"
  },
  "language_info": {
   "codemirror_mode": {
    "name": "ipython",
    "version": 3
   },
   "file_extension": ".py",
   "mimetype": "text/x-python",
   "name": "python",
   "nbconvert_exporter": "python",
   "pygments_lexer": "ipython3",
   "version": "3.9.2"
  }
 },
 "nbformat": 4,
 "nbformat_minor": 5
}
