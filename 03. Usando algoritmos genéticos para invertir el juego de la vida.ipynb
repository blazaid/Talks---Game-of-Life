{
 "cells": [
  {
   "cell_type": "markdown",
   "id": "9466ad15",
   "metadata": {
    "slideshow": {
     "slide_type": "slide"
    }
   },
   "source": [
    "# Usando algoritmos genéticos para invertir el juego de la vida"
   ]
  },
  {
   "cell_type": "markdown",
   "id": "a38be969",
   "metadata": {
    "slideshow": {
     "slide_type": "slide"
    }
   },
   "source": [
    "## Sobre el problema\n",
    "\n",
    "Primer problema: **No es posible invertir el autómata celular del juego de la vida**\n",
    "\n",
    "- Esto quiere decir que no existen reglas que permitan invertir la flecha temporal\n",
    "- Hay algunos patrones que no tienen patrón previo, por ejemplo los [jardines del eden](https://www.conwaylife.com/wiki/Garden_of_Eden)\n",
    "- Hay otros que tienen potencialmente miles de patrones previos, por ejemplo el universo vacío\n",
    "\n",
    "Esto no quiere decir que no podamos buscar *uno* de los posibles patrones que dan lugar a un detrminado patrón\n",
    "\n",
    "- O al menos a un patrón suficientemente parecido\n",
    "\n",
    "Sí existen autómatas celulares _invertibles_ (ver [https://en.wikipedia.org/wiki/Reversible_cellular_automaton](https://en.wikipedia.org/wiki/Reversible_cellular_automaton))\n",
    "\n",
    "- Por ejemplo el autómata celular [Critters](https://en.wikipedia.org/wiki/Critters_(cellular_automaton)), que se parece bastante al juego de la vida\n",
    "\n",
    "¿Qué vamos a hacer nosotros?\n",
    "\n",
    "- Vamos a buscar patrones que tras evolucionar $n$ pasos den un patrón muy parecido a un patrón objetivo\n",
    "- Vamos a programar un algoritmo geńetico para llegar a dicho patrón."
   ]
  },
  {
   "cell_type": "markdown",
   "id": "db4d8cc8",
   "metadata": {
    "slideshow": {
     "slide_type": "slide"
    }
   },
   "source": [
    "## Programación del algoritmo genético\n",
    "\n",
    "Comenzamos importando las librerías que vamos a utilizar a lo largo de la presentación"
   ]
  },
  {
   "cell_type": "code",
   "execution_count": 1,
   "id": "dfaf1371",
   "metadata": {},
   "outputs": [],
   "source": [
    "from itertools import product\n",
    "from random import choices, random, randrange\n",
    "from time import sleep\n",
    "\n",
    "from IPython.display import clear_output\n",
    "\n",
    "from life import Universe, board, blinker, toad, beehive, shift"
   ]
  },
  {
   "cell_type": "markdown",
   "id": "ef1fb820",
   "metadata": {
    "slideshow": {
     "slide_type": "-"
    }
   },
   "source": [
    "Y como a representar el universo como un tablero con topología toroidal de $6 \\times 6$ pues lo definimos como constante"
   ]
  },
  {
   "cell_type": "code",
   "execution_count": 2,
   "id": "e4bb0bf6",
   "metadata": {},
   "outputs": [],
   "source": [
    "UNIVERSE_SIZE = 6, 6"
   ]
  },
  {
   "cell_type": "markdown",
   "id": "21fcc872",
   "metadata": {},
   "source": [
    "Toroidal: Lo que se sale por un extemo aparece por el otro)"
   ]
  },
  {
   "cell_type": "markdown",
   "id": "24c4111a",
   "metadata": {
    "slideshow": {
     "slide_type": "slide"
    }
   },
   "source": [
    "También vamos a determinar cuál es el universo objetivo del que queremos saber un posible estado pasado"
   ]
  },
  {
   "cell_type": "code",
   "execution_count": 3,
   "id": "6687fbd6",
   "metadata": {},
   "outputs": [
    {
     "name": "stdout",
     "output_type": "stream",
     "text": [
      "⬜⬜⬜⬜⬜⬜\n",
      "⬜⬜⬛⬛⬛⬜\n",
      "⬜⬜⬜⬜⬜⬜\n",
      "⬜⬜⬜⬜⬜⬜\n",
      "⬜⬜⬛⬛⬛⬜\n",
      "⬜⬛⬛⬛⬜⬜\n"
     ]
    }
   ],
   "source": [
    "TARGET=Universe(shift(toad, 1, 4) | shift(blinker, 2, 1), board_size=UNIVERSE_SIZE)\n",
    "print(TARGET)"
   ]
  },
  {
   "cell_type": "markdown",
   "id": "25ea986f",
   "metadata": {
    "slideshow": {
     "slide_type": "slide"
    }
   },
   "source": [
    "### Inicialización\n",
    "\n",
    "Estableceremos primero la probabilidad de que una célula esté viva"
   ]
  },
  {
   "cell_type": "code",
   "execution_count": 4,
   "id": "5cd20090",
   "metadata": {},
   "outputs": [],
   "source": [
    "ALIVE_CELL_AT_INIT_PROB = 0.5"
   ]
  },
  {
   "cell_type": "markdown",
   "id": "15823006",
   "metadata": {},
   "source": [
    "Ahora ya podemos crear una inicialización"
   ]
  },
  {
   "cell_type": "code",
   "execution_count": 5,
   "id": "564c9581",
   "metadata": {},
   "outputs": [],
   "source": [
    "def gol_initialize(pop_size, gen_size):\n",
    "    width, height = gen_size\n",
    "    \n",
    "    return [\n",
    "        {(x, y) for x, y in product(range(width), range(height)) if random() < ALIVE_CELL_AT_INIT_PROB}\n",
    "        for _ in range(pop_size)\n",
    "    ]"
   ]
  },
  {
   "cell_type": "markdown",
   "id": "a99878ac",
   "metadata": {
    "slideshow": {
     "slide_type": "slide"
    }
   },
   "source": [
    "Veamos cómo queda:"
   ]
  },
  {
   "cell_type": "code",
   "execution_count": 6,
   "id": "a373b8a9",
   "metadata": {},
   "outputs": [
    {
     "name": "stdout",
     "output_type": "stream",
     "text": [
      "Universe 1:\n",
      "⬜⬛⬜⬜⬛⬛\n",
      "⬜⬛⬛⬛⬛⬜\n",
      "⬜⬛⬛⬜⬜⬜\n",
      "⬜⬜⬛⬛⬛⬜\n",
      "⬛⬛⬜⬛⬜⬜\n",
      "⬛⬜⬛⬛⬛⬜\n",
      "Universe 2:\n",
      "⬛⬛⬛⬛⬜⬜\n",
      "⬛⬛⬜⬜⬛⬜\n",
      "⬜⬛⬜⬜⬛⬜\n",
      "⬜⬜⬛⬛⬛⬛\n",
      "⬛⬜⬜⬜⬛⬜\n",
      "⬜⬜⬛⬛⬜⬜\n",
      "Universe 3:\n",
      "⬜⬛⬜⬜⬜⬛\n",
      "⬛⬜⬜⬛⬛⬜\n",
      "⬜⬜⬜⬛⬛⬛\n",
      "⬜⬛⬛⬜⬛⬜\n",
      "⬜⬛⬜⬜⬜⬛\n",
      "⬜⬜⬜⬜⬛⬜\n",
      "Universe 4:\n",
      "⬛⬜⬜⬛⬜⬜\n",
      "⬜⬛⬛⬛⬜⬛\n",
      "⬜⬜⬜⬜⬜⬛\n",
      "⬛⬛⬛⬜⬛⬜\n",
      "⬜⬛⬛⬛⬜⬜\n",
      "⬜⬜⬛⬛⬛⬜\n",
      "Universe 5:\n",
      "⬜⬛⬜⬜⬛⬜\n",
      "⬜⬛⬛⬜⬛⬛\n",
      "⬜⬜⬛⬛⬛⬛\n",
      "⬛⬜⬛⬛⬜⬜\n",
      "⬜⬛⬛⬛⬜⬜\n",
      "⬜⬜⬜⬜⬜⬜\n"
     ]
    }
   ],
   "source": [
    "population = gol_initialize(pop_size=5, gen_size=UNIVERSE_SIZE)\n",
    "for i, genotype in enumerate(population):\n",
    "    print(f'Universe {i+1}:\\n{Universe(population[i], board_size=UNIVERSE_SIZE)}')"
   ]
  },
  {
   "cell_type": "markdown",
   "id": "718502c4",
   "metadata": {
    "slideshow": {
     "slide_type": "slide"
    }
   },
   "source": [
    "### Fitness\n",
    "\n",
    "Nuestro objetivo es determinar cuál es el tablero que, tras $n$ pasos nos da un tablero objetivo"
   ]
  },
  {
   "cell_type": "code",
   "execution_count": 7,
   "id": "d44cad48",
   "metadata": {},
   "outputs": [],
   "source": [
    "STEPS_IN_FUTURE = 20"
   ]
  },
  {
   "cell_type": "markdown",
   "id": "5266596b",
   "metadata": {},
   "source": [
    "Tenemos que determinar una función que nos diga cómo de cerca estamos de ese objetivo\n",
    "\n",
    "- Diremos que está más cerca cuantas más células coinciden con el estado esperado"
   ]
  },
  {
   "cell_type": "code",
   "execution_count": 8,
   "id": "05773c49",
   "metadata": {},
   "outputs": [],
   "source": [
    "def gol_fitness(genotype):\n",
    "    # Sacamos el futuro de nuestro universo\n",
    "    universe = Universe(genotype, board_size=UNIVERSE_SIZE)\n",
    "    for _ in range(STEPS_IN_FUTURE):\n",
    "        universe.step()\n",
    "    # El fitness será todas las células que coinciden, es decir, el total menos el cardinal de la diferencia simétrica\n",
    "    simetric_diff = universe.cells ^ TARGET.cells\n",
    "    return UNIVERSE_SIZE[0] * UNIVERSE_SIZE[1] - len(simetric_diff)"
   ]
  },
  {
   "cell_type": "markdown",
   "id": "313fe306",
   "metadata": {
    "slideshow": {
     "slide_type": "slide"
    }
   },
   "source": [
    "A ver qué tal la población que hemos generado:"
   ]
  },
  {
   "cell_type": "code",
   "execution_count": 9,
   "id": "e5c4d148",
   "metadata": {},
   "outputs": [
    {
     "name": "stdout",
     "output_type": "stream",
     "text": [
      "Universe 1 (fitness 27):\n",
      "⬜⬛⬜⬜⬛⬛\n",
      "⬜⬛⬛⬛⬛⬜\n",
      "⬜⬛⬛⬜⬜⬜\n",
      "⬜⬜⬛⬛⬛⬜\n",
      "⬛⬛⬜⬛⬜⬜\n",
      "⬛⬜⬛⬛⬛⬜\n",
      "Universe 2 (fitness 23):\n",
      "⬛⬛⬛⬛⬜⬜\n",
      "⬛⬛⬜⬜⬛⬜\n",
      "⬜⬛⬜⬜⬛⬜\n",
      "⬜⬜⬛⬛⬛⬛\n",
      "⬛⬜⬜⬜⬛⬜\n",
      "⬜⬜⬛⬛⬜⬜\n",
      "Universe 3 (fitness 27):\n",
      "⬜⬛⬜⬜⬜⬛\n",
      "⬛⬜⬜⬛⬛⬜\n",
      "⬜⬜⬜⬛⬛⬛\n",
      "⬜⬛⬛⬜⬛⬜\n",
      "⬜⬛⬜⬜⬜⬛\n",
      "⬜⬜⬜⬜⬛⬜\n",
      "Universe 4 (fitness 19):\n",
      "⬛⬜⬜⬛⬜⬜\n",
      "⬜⬛⬛⬛⬜⬛\n",
      "⬜⬜⬜⬜⬜⬛\n",
      "⬛⬛⬛⬜⬛⬜\n",
      "⬜⬛⬛⬛⬜⬜\n",
      "⬜⬜⬛⬛⬛⬜\n",
      "Universe 5 (fitness 21):\n",
      "⬜⬛⬜⬜⬛⬜\n",
      "⬜⬛⬛⬜⬛⬛\n",
      "⬜⬜⬛⬛⬛⬛\n",
      "⬛⬜⬛⬛⬜⬜\n",
      "⬜⬛⬛⬛⬜⬜\n",
      "⬜⬜⬜⬜⬜⬜\n"
     ]
    }
   ],
   "source": [
    "for i, genotype in enumerate(population):\n",
    "    print(f'Universe {i+1} (fitness {gol_fitness(genotype)}):\\n{Universe(population[i], board_size=UNIVERSE_SIZE)}')"
   ]
  },
  {
   "cell_type": "markdown",
   "id": "abad36f2",
   "metadata": {
    "slideshow": {
     "slide_type": "slide"
    }
   },
   "source": [
    "### Operadores"
   ]
  },
  {
   "cell_type": "markdown",
   "id": "755e20e9",
   "metadata": {},
   "source": [
    "#### Condición de parada, selección y reemplazo\n",
    "\n",
    "Usaremos los que ya vimos en la anterior presentación, número de generaciones, torneo y generacional respectivamente"
   ]
  },
  {
   "cell_type": "code",
   "execution_count": 10,
   "id": "42c679c2",
   "metadata": {},
   "outputs": [],
   "source": [
    "def num_generations_stop(target_generation):\n",
    "    def f(population, generation):\n",
    "        return generation >= target_generation\n",
    "    return f\n",
    "\n",
    "\n",
    "def tournament_selection(t):\n",
    "    def f(pop, n, fitness):\n",
    "        return [max(choices(pop, k=t), key=fitness) for _ in range(n)]\n",
    "    return f\n",
    "\n",
    "\n",
    "def generational_replacement(old_population, new_population):\n",
    "    return new_population"
   ]
  },
  {
   "cell_type": "markdown",
   "id": "46438ffc",
   "metadata": {
    "slideshow": {
     "slide_type": "slide"
    }
   },
   "source": [
    "#### Recombinación\n",
    "\n",
    "El operador de recombinación que usaremos aquí será similar al de la anterior presentación\n",
    "\n",
    "- Antes, usamos un punto de pivote para determinar las mitades\n",
    "- Ahora usaremos un $(x, y)$ de pivote que partirá el tablero en dos mitades"
   ]
  },
  {
   "cell_type": "code",
   "execution_count": 11,
   "id": "65db9629",
   "metadata": {},
   "outputs": [],
   "source": [
    "def gol_recombination(parent1, parent2):\n",
    "    pivot_x, pivot_y = randrange(UNIVERSE_SIZE[0]), randrange(UNIVERSE_SIZE[1])\n",
    "    child1, child2 = parent1.copy(), parent2.copy()\n",
    "    \n",
    "    width, height = UNIVERSE_SIZE\n",
    "    for cell in product(range(pivot_x, width), range(pivot_y, height)):\n",
    "        if cell in parent1:\n",
    "            child2.add(cell)\n",
    "        else:\n",
    "            child2.discard(cell)\n",
    "        if cell in parent2:\n",
    "            child1.add(cell)\n",
    "        else:\n",
    "            child1.discard(cell)\n",
    "    \n",
    "    return child1, child2"
   ]
  },
  {
   "cell_type": "markdown",
   "id": "16758604",
   "metadata": {
    "slideshow": {
     "slide_type": "slide"
    }
   },
   "source": [
    "Veamos cómo se comporta el cruce:"
   ]
  },
  {
   "cell_type": "code",
   "execution_count": 12,
   "id": "77db63d4",
   "metadata": {},
   "outputs": [
    {
     "name": "stdout",
     "output_type": "stream",
     "text": [
      "Parent 1:\n",
      "⬜⬛⬜⬜⬛⬛\n",
      "⬜⬛⬛⬛⬛⬜\n",
      "⬜⬛⬛⬜⬜⬜\n",
      "⬜⬜⬛⬛⬛⬜\n",
      "⬛⬛⬜⬛⬜⬜\n",
      "⬛⬜⬛⬛⬛⬜\n",
      "Parent 2:\n",
      "⬛⬛⬛⬛⬜⬜\n",
      "⬛⬛⬜⬜⬛⬜\n",
      "⬜⬛⬜⬜⬛⬜\n",
      "⬜⬜⬛⬛⬛⬛\n",
      "⬛⬜⬜⬜⬛⬜\n",
      "⬜⬜⬛⬛⬜⬜\n",
      "Child 1:\n",
      "⬜⬛⬛⬛⬜⬜\n",
      "⬜⬛⬜⬜⬛⬜\n",
      "⬜⬛⬜⬜⬛⬜\n",
      "⬜⬜⬛⬛⬛⬛\n",
      "⬛⬛⬜⬜⬛⬜\n",
      "⬛⬜⬛⬛⬜⬜\n",
      "Child 2:\n",
      "⬛⬛⬜⬜⬛⬛\n",
      "⬛⬛⬛⬛⬛⬜\n",
      "⬜⬛⬛⬜⬜⬜\n",
      "⬜⬜⬛⬛⬛⬜\n",
      "⬛⬜⬜⬛⬜⬜\n",
      "⬜⬜⬛⬛⬛⬜\n"
     ]
    }
   ],
   "source": [
    "children = gol_recombination(population[0], population[1])\n",
    "for i in range(2):\n",
    "    print(f'Parent {i+1}:\\n{Universe(population[i], UNIVERSE_SIZE)}')\n",
    "for i in range(2):\n",
    "    print(f'Child {i+1}:\\n{Universe(children[i], UNIVERSE_SIZE)}')"
   ]
  },
  {
   "cell_type": "markdown",
   "id": "beb461cf",
   "metadata": {
    "slideshow": {
     "slide_type": "slide"
    }
   },
   "source": [
    "#### Mutación\n",
    "\n",
    "En este caso, también haremos una mutación similar a la que hicimos en la anterior presentación\n",
    "\n",
    "Esto es, recorreremos todas las células y con con cierta probabilidad cambiamos su estado"
   ]
  },
  {
   "cell_type": "code",
   "execution_count": 13,
   "id": "21d7b376",
   "metadata": {},
   "outputs": [],
   "source": [
    "def gol_mutation(genotype, p_mutation):\n",
    "    mutated = genotype.copy()\n",
    "\n",
    "    width, height = UNIVERSE_SIZE\n",
    "    for x, y in product(range(width), range(height)):\n",
    "        if random() < p_mutation:\n",
    "            if (x, y) in genotype:\n",
    "                mutated.remove((x, y))\n",
    "            else:\n",
    "                mutated.add((x, y))\n",
    "    \n",
    "    return mutated"
   ]
  },
  {
   "cell_type": "markdown",
   "id": "459524e9",
   "metadata": {},
   "source": [
    "A ver cómo queda un tablero mutado"
   ]
  },
  {
   "cell_type": "code",
   "execution_count": 14,
   "id": "2d8ef674",
   "metadata": {},
   "outputs": [
    {
     "name": "stdout",
     "output_type": "stream",
     "text": [
      "Original:\n",
      "⬛⬛⬛⬛⬛⬛\n",
      "⬛⬛⬜⬜⬜⬛\n",
      "⬛⬛⬛⬛⬛⬛\n",
      "⬛⬛⬛⬛⬛⬛\n",
      "⬛⬛⬜⬜⬜⬛\n",
      "⬛⬜⬜⬜⬛⬛\n"
     ]
    }
   ],
   "source": [
    "mutated = gol_mutation(TARGET.cells, p_mutation=1)\n",
    "print(f'Original:\\n{Universe(mutated, board_size=UNIVERSE_SIZE)}')"
   ]
  },
  {
   "cell_type": "markdown",
   "id": "7bc81a27",
   "metadata": {
    "slideshow": {
     "slide_type": "slide"
    }
   },
   "source": [
    "### Algoritmo genético\n",
    "\n",
    "Ya tenemos todas las piezas y podemos ejecutar nuestro algoritmo genético; primero definamos una serie de variables de configuración"
   ]
  },
  {
   "cell_type": "code",
   "execution_count": 15,
   "id": "a4a3c852",
   "metadata": {},
   "outputs": [],
   "source": [
    "NUM_GENERATIONS = 100  # Número de iteraciones del algoritmo\n",
    "POPULATION_SIZE = 100  # Tamaño de la población\n",
    "TOURNAMENT_SIZE = 2   # Tamaño de la muestra en el algoritmo de torneo\n",
    "\n",
    "p_recombination = 0.9  # Probabilidad de cruce\n",
    "p_mutation = 5. / (UNIVERSE_SIZE[0] * UNIVERSE_SIZE[1])  # Probabilidad de mutación\n",
    "\n",
    "stop = num_generations_stop(NUM_GENERATIONS)\n",
    "select = tournament_selection(t=TOURNAMENT_SIZE)\n",
    "fitness = gol_fitness\n",
    "initialize = gol_initialize\n",
    "recombine = gol_recombination\n",
    "mutate = gol_mutation\n",
    "replace = generational_replacement"
   ]
  },
  {
   "cell_type": "markdown",
   "id": "3bce617e",
   "metadata": {
    "slideshow": {
     "slide_type": "slide"
    }
   },
   "source": [
    "Y segundo, ejecutemos el algoritmo"
   ]
  },
  {
   "cell_type": "code",
   "execution_count": 16,
   "id": "9b1dcd6f",
   "metadata": {},
   "outputs": [
    {
     "name": "stdout",
     "output_type": "stream",
     "text": [
      "...................................................................................................."
     ]
    }
   ],
   "source": [
    "# Inicializamos la población\n",
    "population = initialize(POPULATION_SIZE, UNIVERSE_SIZE)\n",
    "\n",
    "# Vamos iterando sobre generaciones hasta cumplir la condición de parada\n",
    "generation = 0\n",
    "while not stop(population, generation):\n",
    "    print('.', end='')\n",
    "    # Creamos la nueva descendencia (en principio vacía)\n",
    "    offspring = []\n",
    "    # La rellenamos realizando operaciones de selección + cruce + mutación\n",
    "    while len(offspring) < len(population):\n",
    "        # Selección\n",
    "        genotype1, genotype2 = select(population, n=2, fitness=fitness)\n",
    "        # Recombinación\n",
    "        if random() < p_recombination:\n",
    "            genotype1, genotype2 = recombine(genotype1, genotype2)\n",
    "        # Mutación\n",
    "        genotype1 = mutate(genotype1, p_mutation)\n",
    "        genotype2 = mutate(genotype2, p_mutation)\n",
    "        # Los añadimos a la descendencia\n",
    "        offspring.append(genotype1)\n",
    "        # Para no meter uno de más si el tamaño de la población es impar\n",
    "        if len(offspring) < len(population):\n",
    "            offspring.append(genotype2)\n",
    "    \n",
    "    # Reemplazamos la anterior población por la nueva\n",
    "    population = replace(population, offspring)\n",
    "    # Incrementamos la generación\n",
    "    generation += 1"
   ]
  },
  {
   "cell_type": "markdown",
   "id": "3f463f09",
   "metadata": {
    "slideshow": {
     "slide_type": "slide"
    }
   },
   "source": [
    "Veamos que solución ha encontrado:"
   ]
  },
  {
   "cell_type": "code",
   "execution_count": 17,
   "id": "ebe992a8",
   "metadata": {},
   "outputs": [
    {
     "name": "stdout",
     "output_type": "stream",
     "text": [
      "Source universe (fitness = 29):\n",
      "⬜⬜⬛⬛⬜⬛\n",
      "⬛⬜⬛⬛⬜⬛\n",
      "⬜⬛⬛⬛⬛⬜\n",
      "⬜⬜⬜⬛⬜⬜\n",
      "⬜⬜⬛⬜⬛⬛\n",
      "⬜⬛⬛⬛⬜⬜\n",
      "Evolved universe after 20 steps:\n",
      "⬜⬜⬜⬜⬜⬜\n",
      "⬜⬜⬜⬜⬜⬜\n",
      "⬜⬜⬜⬜⬜⬜\n",
      "⬜⬜⬜⬜⬜⬜\n",
      "⬜⬛⬛⬜⬜⬜\n",
      "⬜⬛⬛⬜⬜⬜\n",
      "Target universe\n",
      "⬜⬜⬜⬜⬜⬜\n",
      "⬜⬜⬛⬛⬛⬜\n",
      "⬜⬜⬜⬜⬜⬜\n",
      "⬜⬜⬜⬜⬜⬜\n",
      "⬜⬜⬛⬛⬛⬜\n",
      "⬜⬛⬛⬛⬜⬜\n"
     ]
    }
   ],
   "source": [
    "best_genome = max(population, key=fitness)\n",
    "\n",
    "universe = Universe(best_genome, UNIVERSE_SIZE)\n",
    "print(f'Source universe (fitness = {fitness(best_genome)}):\\n{universe}')\n",
    "for _ in range(STEPS_IN_FUTURE):\n",
    "    universe.step()\n",
    "print(f'Evolved universe after {STEPS_IN_FUTURE} steps:\\n{universe}')\n",
    "print(f'Target universe\\n{TARGET}')"
   ]
  },
  {
   "cell_type": "markdown",
   "id": "96b36ec7",
   "metadata": {
    "slideshow": {
     "slide_type": "slide"
    }
   },
   "source": [
    "## Finalizando\n",
    "\n",
    "Como podéis imaginar, no es una tarea sencilla\n",
    "\n",
    "Tanto es así que han existido no una, sino dos competiciones en Kaggle sobre este tema\n",
    "\n",
    "- Competición de 2013: [https://www.kaggle.com/c/conway-s-reverse-game-of-life](https://www.kaggle.com/c/conway-s-reverse-game-of-life)\n",
    "- Competición de 2020: [https://www.kaggle.com/c/conways-reverse-game-of-life-2020](https://www.kaggle.com/c/conways-reverse-game-of-life-2020)\n",
    "\n",
    "Las técnicas que se han usado son de lo más variopinto:\n",
    "\n",
    "- Redes de convolución\n",
    "- Algoritmos genéticos\n",
    "- Recocido simulado\n",
    "\n",
    "Esto ha sido únicamente un pequeño ejemplo de a lo que se puede llegar; ¿os atrevéis?"
   ]
  },
  {
   "cell_type": "markdown",
   "id": "5b59a0a8",
   "metadata": {
    "slideshow": {
     "slide_type": "slide"
    }
   },
   "source": [
    "# ¡Muchas gracias!"
   ]
  }
 ],
 "metadata": {
  "kernelspec": {
   "display_name": "Python 3 (ipykernel)",
   "language": "python",
   "name": "python3"
  },
  "language_info": {
   "codemirror_mode": {
    "name": "ipython",
    "version": 3
   },
   "file_extension": ".py",
   "mimetype": "text/x-python",
   "name": "python",
   "nbconvert_exporter": "python",
   "pygments_lexer": "ipython3",
   "version": "3.9.2"
  }
 },
 "nbformat": 4,
 "nbformat_minor": 5
}
