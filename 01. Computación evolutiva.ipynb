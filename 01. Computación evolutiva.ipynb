{
 "cells": [
  {
   "cell_type": "markdown",
   "metadata": {
    "slideshow": {
     "slide_type": "slide"
    }
   },
   "source": [
    "# Computación evolutiva"
   ]
  },
  {
   "cell_type": "markdown",
   "metadata": {
    "slideshow": {
     "slide_type": "slide"
    }
   },
   "source": [
    "Rama de la Inteligencia Artificial _inspirada_ en los mecanismos de la evolución biológica\n",
    "\n",
    "- Las actuales especies y su comportamiento son **soluciones al problema de la vida**\n",
    "  - Problema de la vida: Seguir vivos\n",
    "- Parece que hemos llegado a soluciones complejas extremadamente adaptadas\n",
    "  - La vida sigue existiendo tras [4250 millones de años](https://www.newscientist.com/article/dn14245-did-newborn-earth-harbour-life/) (década arriba o abajo)\n",
    "\n",
    "¡Estos mecanismos son muy variados!\n",
    "\n",
    "- [Colonias de hormigas](https://es.wikipedia.org/wiki/Algoritmo_de_la_colonia_de_hormigas), [enjambres de partículas](https://es.wikipedia.org/wiki/Optimizaci%C3%B3n_por_enjambre_de_part%C3%ADculas), [algoritmos genéticos](https://es.wikipedia.org/wiki/Algoritmo_gen%C3%A9tico), $\\ldots$, cada uno con sus peculiaridades\n",
    "\n",
    "**Nosotros nos centraremos en los algoritmos genéticos**\n",
    "\n",
    "- Son **muy** potentes, y generalizándolos se agrupan muchos de estos mecanismos"
   ]
  },
  {
   "cell_type": "markdown",
   "metadata": {
    "slideshow": {
     "slide_type": "slide"
    }
   },
   "source": [
    "## Algoritmos genéticos\n",
    "\n",
    "Propuestos por John Holland, allá por 1975\n",
    "\n",
    "Algoritmos iterativos _inspirados_ en la [Síntesis Evolutiva Moderna](https://es.wikipedia.org/wiki/S%C3%ADntesis_evolutiva_moderna), que integra, entre otros:\n",
    "\n",
    "- _Selección natural_ del [darwinismo](https://es.wikipedia.org/wiki/Darwinismo), por la que los individuos más adaptados a su entorno tienen más probabilidad de sobrevivir\n",
    "- _Herencia genética_ de la [genética mendeliana](https://es.wikipedia.org/wiki/Leyes_de_Mendel), el mecanismo que hace posible la transmisión de las características de progenitores a descendientes\n",
    "- _Variación genética_ producida por diferentes tipos de [mutación](https://es.wikipedia.org/wiki/Mutación)\n",
    "\n",
    "<center><img src='images/evolution.gif'></center>"
   ]
  },
  {
   "cell_type": "markdown",
   "metadata": {
    "slideshow": {
     "slide_type": "slide"
    }
   },
   "source": [
    "## ¿Cuál es su estructura?\n",
    "\n",
    "La estructura genérica de un algoritmo suele ser la siguiente\n",
    "<br>\n",
    "<center><img src='images/ga-schema.png'></center>\n",
    "<br>\n",
    "\n",
    "1. Se genera una población inicial\n",
    "2. Se comprueba la condición de parada, es decir, si hemos llegado a alguna solución aceptable en la población\n",
    "3. ¿Que sí? Paramos. ¿Que no? Pues repetimos los siguientes pasos una y otra vez hasta tener una población del tamaño deseado:\n",
    "  1. Seleccionar $n$ individuos (progenitores)\n",
    "  2. Recombinar (con cierta probabilidad) los $n$ individuos para obtener $m$ nuevos (progenie)\n",
    "  3. Mutar (con cierta probabilidad) los $m$ individuoshasta completar su tamaño preestablecido\n",
    "  4. Añadir los $m$ individuos en la nueva población\n",
    "4. Reemplazar la antigua población por esta nueva y volver al paso 2\n",
    "\n",
    "**Lo más normal es tanto $n$ como $m$ sea 2**, pero existen esquemas que usan valores diferentes\n",
    "\n",
    "Vamos a ver es una introducción de cómo implementar cada una de las cajas sobre un problema clásico: la mochila de supervivencia"
   ]
  },
  {
   "cell_type": "markdown",
   "metadata": {
    "slideshow": {
     "slide_type": "slide"
    }
   },
   "source": [
    "Antes, importaremos las librerías que se usarán a lo largo de la presentación"
   ]
  },
  {
   "cell_type": "code",
   "execution_count": 1,
   "metadata": {},
   "outputs": [],
   "source": [
    "from random import choices, randint, random"
   ]
  },
  {
   "cell_type": "markdown",
   "metadata": {
    "slideshow": {
     "slide_type": "slide"
    }
   },
   "source": [
    "## La mochila de supervivencia\n",
    "\n",
    "Tenemos la idea de hacer una escapada al monte con nuestra nueva mochila de 20 litros"
   ]
  },
  {
   "cell_type": "code",
   "execution_count": 2,
   "metadata": {},
   "outputs": [],
   "source": [
    "MAX_VOL = 20  # Máximo volumen de nuestra mochila"
   ]
  },
  {
   "cell_type": "markdown",
   "metadata": {},
   "source": [
    "Como no cabe todo lo que nos gustaría llevar, por experiencia le hemos asignado unos \"puntos de supervivencia\" a cada elemento:"
   ]
  },
  {
   "cell_type": "code",
   "execution_count": 3,
   "metadata": {},
   "outputs": [],
   "source": [
    "ELEMENTS_DATA = {\n",
    "    'Navaja': (10, 1),\n",
    "    'Yesca': (10, 1),\n",
    "    'Bocata': (20, 5),\n",
    "    'Agua': (15, 2),\n",
    "    'Café': (3, 1),\n",
    "    'Mosquetones': (2, 1),\n",
    "    'Saco': (30, 6),\n",
    "    'Tienda': (30, 9),\n",
    "    'Cuerda': (10, 5),\n",
    "    'Brújula': (30, 1),\n",
    "    'Libro': (4, 3),\n",
    "    'Tiritas': (10, 1),\n",
    "    'Preservativos': (6, 3),\n",
    "}  # Elemento -> (Puntos de superviviencia, Volumen)"
   ]
  },
  {
   "cell_type": "markdown",
   "metadata": {},
   "source": [
    "Queremos encontrar por tanto, la combinación de elementos que:\n",
    "\n",
    "- Más puntos de supervivencia me den: Cuanto más, mejor\n",
    "- Mejor quepan en la mochila: Cuando menos espacio libre quede en la mochila, mejor\n"
   ]
  },
  {
   "cell_type": "markdown",
   "metadata": {
    "slideshow": {
     "slide_type": "slide"
    }
   },
   "source": [
    "### Inicialización\n",
    "\n",
    "Primero, necesitaremos una forma de representar a los individuos; podemos:\n",
    "\n",
    "1. Ordenar los elementos alfabéticamente"
   ]
  },
  {
   "cell_type": "code",
   "execution_count": 4,
   "metadata": {},
   "outputs": [
    {
     "data": {
      "text/plain": [
       "'Agua, Bocata, Brújula, Café, Cuerda, Libro, Mosquetones, Navaja, Preservativos, Saco, Tienda, Tiritas, Yesca'"
      ]
     },
     "execution_count": 4,
     "metadata": {},
     "output_type": "execute_result"
    }
   ],
   "source": [
    "ELEMENTS = sorted(ELEMENTS_DATA)\n",
    "', '.join(ELEMENTS)"
   ]
  },
  {
   "cell_type": "markdown",
   "metadata": {},
   "source": [
    "2. Representar los genotipos como una lista de $1$'s y $0$'s, dependiendo de si está o no en la mochila"
   ]
  },
  {
   "cell_type": "code",
   "execution_count": 5,
   "metadata": {
    "scrolled": true
   },
   "outputs": [
    {
     "name": "stdout",
     "output_type": "stream",
     "text": [
      "Example genotype: [1, 1, 1, 1, 1, 0, 1, 1, 1, 0, 1, 1, 0]\n"
     ]
    }
   ],
   "source": [
    "ALPHABET = 0, 1  # Los posibles valores de cada gen en el genotipo\n",
    "print(f'Example genotype: {choices(ALPHABET, k=len(ELEMENTS))}')"
   ]
  },
  {
   "cell_type": "markdown",
   "metadata": {},
   "source": [
    "Segundo, definiremos un método para inicializar nuestra población de individuos"
   ]
  },
  {
   "cell_type": "code",
   "execution_count": 6,
   "metadata": {},
   "outputs": [
    {
     "name": "stdout",
     "output_type": "stream",
     "text": [
      "01 -> [0, 0, 0, 0, 0, 0, 1, 0, 0, 0, 0, 1, 1]\n",
      "02 -> [0, 0, 1, 0, 1, 1, 1, 0, 0, 1, 0, 1, 0]\n",
      "03 -> [1, 0, 0, 0, 1, 0, 0, 1, 1, 1, 1, 1, 1]\n",
      "04 -> [0, 0, 0, 0, 1, 1, 1, 0, 0, 1, 0, 1, 1]\n",
      "05 -> [1, 1, 1, 0, 1, 1, 1, 0, 0, 1, 0, 1, 0]\n"
     ]
    }
   ],
   "source": [
    "def initialize(pop_size, gen_size, alphabet):\n",
    "    return [choices(alphabet, k=gen_size) for _ in range(pop_size)]\n",
    "\n",
    "population = initialize(pop_size=5, gen_size=len(ELEMENTS), alphabet=ALPHABET)\n",
    "for i, genotype in enumerate(population, 1):\n",
    "    print(f'{i:02} -> {genotype}')"
   ]
  },
  {
   "cell_type": "markdown",
   "metadata": {
    "slideshow": {
     "slide_type": "slide"
    }
   },
   "source": [
    "### Condición de parada\n",
    "\n",
    "Determina si hemos llegado a una solución suficientemente buena\n",
    "\n",
    "Usa generalmente la población y la generación actual para tomar la decisión\n",
    "\n",
    "Nosotros implementaremos la condición de parada de **número de generaciones**\n",
    "\n",
    "- Vamos, que cuando hemos hecho un número determinado de iteraciones paramos"
   ]
  },
  {
   "cell_type": "code",
   "execution_count": 7,
   "metadata": {},
   "outputs": [],
   "source": [
    "def num_generations_stop(target_generation):\n",
    "    def f(population, generation):\n",
    "        return generation >= target_generation\n",
    "    return f"
   ]
  },
  {
   "cell_type": "markdown",
   "metadata": {},
   "source": [
    "Vemos si se comporta como esperamos, por ejemplo con un máximo de 100 generaciones"
   ]
  },
  {
   "cell_type": "code",
   "execution_count": 8,
   "metadata": {},
   "outputs": [
    {
     "name": "stdout",
     "output_type": "stream",
     "text": [
      "Stop at 98?: no\n",
      "Stop at 99?: no\n",
      "Stop at 100?: yes\n",
      "Stop at 101?: yes\n"
     ]
    }
   ],
   "source": [
    "stop = num_generations_stop(100)\n",
    "for generation in range(98, 102):\n",
    "    print(f'Stop at {generation}?: {\"yes\" if stop(population, generation) else \"no\"}')"
   ]
  },
  {
   "cell_type": "markdown",
   "metadata": {
    "slideshow": {
     "slide_type": "slide"
    }
   },
   "source": [
    "### Selección\n",
    "\n",
    "Recordemos por dónde vamos:\n",
    "\n",
    "<br>\n",
    "<center><img src='images/ga-schema.png'></center>\n",
    "<br>\n",
    "\n",
    "Ahora viene un bucle donde estaremos seleccionando, cruzando y mutando individuos\n",
    "\n",
    "- Todo ello para crear una nueva población con individuos descendientes de, probablemente, los mejores\n",
    "\n",
    "La selección hará justamente eso, **seleccionar aleatoriamente individuos dándole más probabilidad a los mejores**:\n",
    "\n",
    "- El individuo más apto es el que tiene más probabilidad de tener descendencia\n",
    "- Las características que lo hacen el más apto estarán (presumiblemente) escritas en sus genes\n",
    "  - ¡Y en la suerte! Que no se nos olvide\n",
    "  \n",
    "Existen muchos tipos diferentes de selección, nosotros utilizaremos la **selección por torneo**"
   ]
  },
  {
   "cell_type": "markdown",
   "metadata": {
    "slideshow": {
     "slide_type": "slide"
    }
   },
   "source": [
    "#### Selección por torneo\n",
    "\n",
    "1. Se determina un número $t$ de individuos\n",
    "1. Por cada genotipo que queramos seleccionar\n",
    "  1. Se toman $t$ genotipos aleatorios de la población\n",
    "  2. El más apto de los $t$ individuos correspondientes a ese genotipo es elegido\n",
    "\n",
    "... Espera, ¿y cómo determinamos cuál es el más apto?\n",
    "\n",
    "De eso se encargará una función heurística que se denomina **aptitud** o _**fitness**_\n",
    "\n",
    "- Devolverá un valor más grande cuando mayor sea su aptitud\n",
    "- Es específico de nuestro problema; en nuestro caso habíamos quedado en que queríamos:\n",
    "  - Cuantos más puntos de supervivencia, mejorMás puntos de supervivencia me den: Cuanto más, mejor\n",
    "  - Cuanto menos espacio libre en la mochila, mejor\n",
    "\n",
    "Bueno, pues programaremos primero una función `fitness` y luego una función `tournament` que la use"
   ]
  },
  {
   "cell_type": "markdown",
   "metadata": {
    "slideshow": {
     "slide_type": "slide"
    }
   },
   "source": [
    "##### Fitness\n",
    "\n",
    "Comprobará cómo de apto es un individuo; pero ojo, porque **individuo $\\ne$ genotipo**\n",
    "\n",
    "- Genotipo: Genes que posee un individuo\n",
    "- Fenotipo: Expresión de esos genes **en el entorno**, es decir, el individuo\n",
    "\n",
    "Primero determinaremos el fenotipo y luego calcularemos el fitness sobre este"
   ]
  },
  {
   "cell_type": "code",
   "execution_count": 9,
   "metadata": {},
   "outputs": [],
   "source": [
    "def phenotype(genotype):\n",
    "    return [elem for (i, elem) in zip(genotype, ELEMENTS) if i]"
   ]
  },
  {
   "cell_type": "markdown",
   "metadata": {},
   "source": [
    "Y segundo, implementamos el fitness con las restricciones impuestas"
   ]
  },
  {
   "cell_type": "code",
   "execution_count": 10,
   "metadata": {
    "slideshow": {
     "slide_type": "-"
    }
   },
   "outputs": [],
   "source": [
    "def fitness(genotype):\n",
    "    srv = sum(ELEMENTS_DATA[elem][0] for elem in phenotype(genotype))\n",
    "    vol = sum(ELEMENTS_DATA[elem][1] for elem in phenotype(genotype))\n",
    "    return srv - abs(MAX_VOL - vol) if vol <= MAX_VOL else 0"
   ]
  },
  {
   "cell_type": "markdown",
   "metadata": {
    "slideshow": {
     "slide_type": "-"
    }
   },
   "source": [
    "Veamos cómo se comportan:"
   ]
  },
  {
   "cell_type": "code",
   "execution_count": 11,
   "metadata": {},
   "outputs": [
    {
     "name": "stdout",
     "output_type": "stream",
     "text": [
      "[0, 0, 0, 0, 0, 0, 1, 0, 0, 0, 0, 1, 1] (fitness = 005): ['Mosquetones', 'Tiritas', 'Yesca']\n",
      "[0, 0, 1, 0, 1, 1, 1, 0, 0, 1, 0, 1, 0] (fitness = 083): ['Brújula', 'Cuerda', 'Libro', 'Mosquetones', 'Saco', 'Tiritas']\n",
      "[1, 0, 0, 0, 1, 0, 0, 1, 1, 1, 1, 1, 1] (fitness = 000): ['Agua', 'Cuerda', 'Navaja', 'Preservativos', 'Saco', 'Tienda', 'Tiritas', 'Yesca']\n",
      "[0, 0, 0, 0, 1, 1, 1, 0, 0, 1, 0, 1, 1] (fitness = 063): ['Cuerda', 'Libro', 'Mosquetones', 'Saco', 'Tiritas', 'Yesca']\n",
      "[1, 1, 1, 0, 1, 1, 1, 0, 0, 1, 0, 1, 0] (fitness = 000): ['Agua', 'Bocata', 'Brújula', 'Cuerda', 'Libro', 'Mosquetones', 'Saco', 'Tiritas']\n"
     ]
    }
   ],
   "source": [
    "for genotype in population:\n",
    "    print(f'{genotype} (fitness = {fitness(genotype):03}): {phenotype(genotype)}')"
   ]
  },
  {
   "cell_type": "markdown",
   "metadata": {
    "slideshow": {
     "slide_type": "slide"
    }
   },
   "source": [
    "##### Selección por torneo\n",
    "\n",
    "Una vez tenemos el _fitness_, podemos aplicar cualquier función de selección, por ejemplo la de por torneo"
   ]
  },
  {
   "cell_type": "code",
   "execution_count": 12,
   "metadata": {},
   "outputs": [],
   "source": [
    "def tournament_selection(t):\n",
    "    def f(pop, n, fitness):\n",
    "        return [max(choices(pop, k=t), key=fitness) for _ in range(n)]\n",
    "    return f"
   ]
  },
  {
   "cell_type": "markdown",
   "metadata": {},
   "source": [
    "Vamos a hacer una selección de 10 individuos sobre nuestra población"
   ]
  },
  {
   "cell_type": "code",
   "execution_count": 13,
   "metadata": {},
   "outputs": [
    {
     "name": "stdout",
     "output_type": "stream",
     "text": [
      "fitness = 83: ['Brújula', 'Cuerda', 'Libro', 'Mosquetones', 'Saco', 'Tiritas']\n",
      "fitness = 63: ['Cuerda', 'Libro', 'Mosquetones', 'Saco', 'Tiritas', 'Yesca']\n",
      "fitness = 83: ['Brújula', 'Cuerda', 'Libro', 'Mosquetones', 'Saco', 'Tiritas']\n",
      "fitness = 83: ['Brújula', 'Cuerda', 'Libro', 'Mosquetones', 'Saco', 'Tiritas']\n",
      "fitness = 63: ['Cuerda', 'Libro', 'Mosquetones', 'Saco', 'Tiritas', 'Yesca']\n",
      "fitness = 83: ['Brújula', 'Cuerda', 'Libro', 'Mosquetones', 'Saco', 'Tiritas']\n",
      "fitness = 0: ['Agua', 'Cuerda', 'Navaja', 'Preservativos', 'Saco', 'Tienda', 'Tiritas', 'Yesca']\n",
      "fitness = 83: ['Brújula', 'Cuerda', 'Libro', 'Mosquetones', 'Saco', 'Tiritas']\n",
      "fitness = 63: ['Cuerda', 'Libro', 'Mosquetones', 'Saco', 'Tiritas', 'Yesca']\n",
      "fitness = 83: ['Brújula', 'Cuerda', 'Libro', 'Mosquetones', 'Saco', 'Tiritas']\n"
     ]
    }
   ],
   "source": [
    "selection = tournament_selection(t=2)\n",
    "genotypes = selection(population, n=10, fitness=fitness)\n",
    "for genotype in genotypes:\n",
    "    parent1, parent2 = selection(population, n=2, fitness=fitness)\n",
    "    print(f'fitness = {fitness(genotype)}: {phenotype(genotype)}')"
   ]
  },
  {
   "cell_type": "markdown",
   "metadata": {
    "slideshow": {
     "slide_type": "slide"
    }
   },
   "source": [
    "### Recombinación\n",
    "\n",
    "La selección nos proporciona dos genotipos; ahora toca generar dos descendientes a partir de estos\n",
    "\n",
    "- Para las listas tenemos un montón de operadores, nosotros vamos a implementar el que se conoce como _un punto de pivote_\n",
    "| | | | |\n",
    "| Pivot | 6 | | |\n",
    "| --- | --- | --- | --- |\n",
    "| Parent 1 | 💜💜💜💜💜💜💜💜💜💜 | Child 1 | 💜💜💜💜💜💜🧡🧡🧡🧡 |\n",
    "| Parent 2 | 🧡🧡🧡🧡🧡🧡🧡🧡🧡🧡 | Child 2 | 🧡🧡🧡🧡🧡🧡💜💜💜💜 |\n",
    "\n",
    "**Ojo**: La recombinación ocurre con cierta probabilidad, por lo que a veces los descendientes son los mismos progenitores"
   ]
  },
  {
   "cell_type": "code",
   "execution_count": 14,
   "metadata": {
    "ExecuteTime": {
     "end_time": "2021-03-17T08:27:31.438766Z",
     "start_time": "2021-03-17T08:27:31.435163Z"
    }
   },
   "outputs": [],
   "source": [
    "def one_pivot_recombination(parent1, parent2):\n",
    "    pivot = randint(1, len(parent1) - 1)  # Punto de corte\n",
    "    child1 = parent1[:pivot] + parent2[pivot:]\n",
    "    child2 = parent2[:pivot] + parent1[pivot:]\n",
    "    return child1, child2"
   ]
  },
  {
   "cell_type": "markdown",
   "metadata": {},
   "source": [
    "Vamos a realizar una prueba de cruce:"
   ]
  },
  {
   "cell_type": "code",
   "execution_count": 15,
   "metadata": {
    "ExecuteTime": {
     "end_time": "2021-03-17T08:27:31.448295Z",
     "start_time": "2021-03-17T08:27:31.442905Z"
    }
   },
   "outputs": [
    {
     "name": "stdout",
     "output_type": "stream",
     "text": [
      "Parent 1: [0, 0, 0, 0, 0, 0, 1, 0, 0, 0, 0, 1, 1] -> ['Mosquetones', 'Tiritas', 'Yesca']\n",
      "Parent 2: [0, 0, 1, 0, 1, 1, 1, 0, 0, 1, 0, 1, 0] -> ['Brújula', 'Cuerda', 'Libro', 'Mosquetones', 'Saco', 'Tiritas']\n",
      "Child 1:  [0, 0, 0, 0, 0, 0, 1, 0, 0, 0, 0, 1, 0] -> ['Mosquetones', 'Tiritas']\n",
      "Child 2:  [0, 0, 1, 0, 1, 1, 1, 0, 0, 1, 0, 1, 1] -> ['Brújula', 'Cuerda', 'Libro', 'Mosquetones', 'Saco', 'Tiritas', 'Yesca']\n"
     ]
    }
   ],
   "source": [
    "genotypes = selection(population, n=10, fitness=fitness)\n",
    "parent1, parent2 = selection(population, n=2, fitness=fitness)\n",
    "print(f'Parent 1: {parent1} -> {phenotype(parent1)}')\n",
    "print(f'Parent 2: {parent2} -> {phenotype(parent2)}')\n",
    "child1, child2 = one_pivot_recombination(parent1, parent2)\n",
    "print(f'Child 1:  {child1} -> {phenotype(child1)}')\n",
    "print(f'Child 2:  {child2} -> {phenotype(child2)}')"
   ]
  },
  {
   "cell_type": "markdown",
   "metadata": {
    "slideshow": {
     "slide_type": "slide"
    }
   },
   "source": [
    "### Mutación\n",
    "\n",
    "Este operador es muy útil por dos razones principalmente:\n",
    "\n",
    "- Permite alterar individuos existentes con cierta probabilidad de que mejores su aptitud\n",
    "- Ayuda al la biodiversidad añadiendo información genética que podría no existir entre los individuos de la población\n",
    "\n",
    "Debe garantizar que a la larga añade información genética nueva, pero sin producir pérdida de genes prometedores en individuos\n",
    "\n",
    "Nuestra implementación será recorrer todos los genes del genotipo, con una probabilidad $p$ (pequeña) de que ese gen se reemplace\n",
    "\n",
    "- Como nuestro alfabeto es binario, se reemplazará por el complementario"
   ]
  },
  {
   "cell_type": "code",
   "execution_count": 16,
   "metadata": {
    "ExecuteTime": {
     "end_time": "2021-03-17T08:27:31.455444Z",
     "start_time": "2021-03-17T08:27:31.450952Z"
    }
   },
   "outputs": [],
   "source": [
    "def binary_mutation(genotype, p):\n",
    "    return [((g + 1) % 2) if random() < p else g for g in genotype]"
   ]
  },
  {
   "cell_type": "markdown",
   "metadata": {},
   "source": [
    "Mutamos el genotipo del primer hijo resultado de la recombinación:"
   ]
  },
  {
   "cell_type": "code",
   "execution_count": 17,
   "metadata": {
    "ExecuteTime": {
     "end_time": "2021-03-17T08:27:31.464269Z",
     "start_time": "2021-03-17T08:27:31.459471Z"
    }
   },
   "outputs": [
    {
     "name": "stdout",
     "output_type": "stream",
     "text": [
      "Child:   [0, 0, 0, 0, 0, 0, 1, 0, 0, 0, 0, 1, 0] ['Mosquetones', 'Tiritas']\n",
      "Mutated: [0, 0, 0, 0, 0, 0, 1, 0, 0, 0, 1, 1, 0] ['Mosquetones', 'Tienda', 'Tiritas']\n"
     ]
    }
   ],
   "source": [
    "print(f'Child:   {child1} {phenotype(child1)}')\n",
    "mutated = binary_mutation(child1, 1 / len(child1))\n",
    "print(f'Mutated: {mutated} {phenotype(mutated)}')"
   ]
  },
  {
   "cell_type": "markdown",
   "metadata": {},
   "source": [
    "La probabilidad que hemos puesto es $p_0 = \\frac{1}{len(g)}$, porque así todo individuo $g$ verá alterada, de media, un gen de su genotipo"
   ]
  },
  {
   "cell_type": "markdown",
   "metadata": {
    "slideshow": {
     "slide_type": "slide"
    }
   },
   "source": [
    "### Reemplazo\n",
    "\n",
    "Recordemos, de nuevo, por dónde vamos:\n",
    "\n",
    "<br>\n",
    "<center><img src='images/ga-schema.png'></center>\n",
    "<br>\n",
    "\n",
    "Este operador se encargará cambiar los genotipos de la población antigua por los de la nueva\n",
    "\n",
    "Tradicionalmente existen dos aproximaciones, aunque en relidad existen casi tantas variantes como investigadores:\n",
    "\n",
    "- _Steady-state_: Los dos individuos que se generan tras la selección-recombinación-mutación reemplazan a los peores\n",
    "- _Generational_: Cuando tenemos una población de progenie igual de grande que la anterior la reemplazamos completamente\n",
    "\n",
    "Nosotros implementaremos la _Generational_ clasica, es decir, reemplazar una población por otra"
   ]
  },
  {
   "cell_type": "code",
   "execution_count": 18,
   "metadata": {
    "ExecuteTime": {
     "end_time": "2021-03-17T08:27:31.470920Z",
     "start_time": "2021-03-17T08:27:31.467116Z"
    }
   },
   "outputs": [],
   "source": [
    "def generational_replacement(old_population, new_population):\n",
    "    return new_population"
   ]
  },
  {
   "cell_type": "markdown",
   "metadata": {
    "slideshow": {
     "slide_type": "slide"
    }
   },
   "source": [
    "### Algoritmo\n",
    "\n",
    "Ya tenemos todos los operadores; primero definamos una serie de variables de configuración"
   ]
  },
  {
   "cell_type": "code",
   "execution_count": 19,
   "metadata": {
    "ExecuteTime": {
     "end_time": "2021-03-17T08:27:31.483376Z",
     "start_time": "2021-03-17T08:27:31.479878Z"
    },
    "slideshow": {
     "slide_type": "-"
    }
   },
   "outputs": [],
   "source": [
    "NUM_GENERATIONS = 100  # Número de iteraciones del algoritmo\n",
    "POPULATION_SIZE = 100  # Tamaño de la población\n",
    "TOURNAMENT_SIZE = 3  # Tamaño de la muestra en el algoritmo de torneo\n",
    "\n",
    "p_recombination = 0.9  # Probabilidad de cruce\n",
    "p_mutation = 2. / len(ELEMENTS)  # Probabilidad de mutación\n",
    "\n",
    "stop = num_generations_stop(NUM_GENERATIONS)\n",
    "selection = tournament_selection(t=TOURNAMENT_SIZE)\n",
    "recombination = one_pivot_recombination\n",
    "mutation = binary_mutation\n",
    "replacement = generational_replacement"
   ]
  },
  {
   "cell_type": "markdown",
   "metadata": {
    "slideshow": {
     "slide_type": "slide"
    }
   },
   "source": [
    "Segundo, ejecutamos el algoritmo para ver qué solución nos arroja"
   ]
  },
  {
   "cell_type": "code",
   "execution_count": 20,
   "metadata": {
    "ExecuteTime": {
     "end_time": "2021-03-17T08:27:31.498377Z",
     "start_time": "2021-03-17T08:27:31.487312Z"
    }
   },
   "outputs": [
    {
     "name": "stdout",
     "output_type": "stream",
     "text": [
      "Fitness = 125: ['Agua', 'Bocata', 'Brújula', 'Mosquetones', 'Navaja', 'Saco', 'Tiritas', 'Yesca']\n"
     ]
    }
   ],
   "source": [
    "# Inicializamos la población\n",
    "population = initialize(POPULATION_SIZE, len(ELEMENTS), ALPHABET)\n",
    "\n",
    "# Vamos iterando sobre generaciones hasta cumplir la condición de parada\n",
    "generation = 0\n",
    "while not stop(population, generation):\n",
    "    # Creamos la nueva descendencia (en principio vacía)\n",
    "    offspring = []\n",
    "    # La rellenamos realizando operaciones de selección + cruce + mutación\n",
    "    while len(offspring) < len(population):\n",
    "        # Selección\n",
    "        genotype1, genotype2 = selection(population, n=2, fitness=fitness)\n",
    "        # Recombinación\n",
    "        if random() < p_recombination:\n",
    "            genotype1, genotype2 = recombination(genotype1, genotype2)\n",
    "        # Mutación\n",
    "        genotype1 = mutation(genotype1, p_mutation)\n",
    "        genotype2 = mutation(genotype2, p_mutation)\n",
    "        # Los añadimos a la descendencia\n",
    "        offspring.append(genotype1)\n",
    "        # Para no meter uno de más si el tamaño de la población es impar\n",
    "        if len(offspring) < len(population):\n",
    "            offspring.append(genotype2)\n",
    "    \n",
    "    # Reemplazamos la anterior población por la nueva\n",
    "    population = replacement(population, offspring)\n",
    "    # Incrementamos la generación\n",
    "    generation += 1\n",
    "\n",
    "# Al final del algoritmo, El mejor individuo de la población será la mejor\n",
    "# solución encontrada al problema.\n",
    "best_genome = max(population, key=fitness)\n",
    "\n",
    "print(f'Fitness = {fitness(best_genome)}: {phenotype(best_genome)}')"
   ]
  },
  {
   "cell_type": "markdown",
   "metadata": {
    "slideshow": {
     "slide_type": "slide"
    }
   },
   "source": [
    "## ¡Y hasta aquí!\n",
    "\n",
    "Esto ha sido una introducción muy escueta y rápida a los algoritmos genéticos\n",
    "\n",
    "Ahora, vamos a explorar un poco la implementación del juego de la vida para, de verdad, jugar con él"
   ]
  }
 ],
 "metadata": {
  "kernelspec": {
   "display_name": "Python 3 (ipykernel)",
   "language": "python",
   "name": "python3"
  },
  "language_info": {
   "codemirror_mode": {
    "name": "ipython",
    "version": 3
   },
   "file_extension": ".py",
   "mimetype": "text/x-python",
   "name": "python",
   "nbconvert_exporter": "python",
   "pygments_lexer": "ipython3",
   "version": "3.9.2"
  }
 },
 "nbformat": 4,
 "nbformat_minor": 2
}
